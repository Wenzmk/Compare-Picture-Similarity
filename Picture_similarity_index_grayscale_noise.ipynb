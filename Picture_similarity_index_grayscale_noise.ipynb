{
 "cells": [
  {
   "cell_type": "code",
   "execution_count": 24,
   "metadata": {},
   "outputs": [],
   "source": [
    "import os\n",
    "import cv2\n",
    "import pandas as pd\n",
    "import numpy as np\n",
    "from math import*\n",
    "from decimal import Decimal\n",
    "import tensorflow as tf\n",
    "from skimage.metrics import structural_similarity as ssim\n",
    "from skimage.metrics import mean_squared_error\n",
    "from expects import (\n",
    "    be_true,\n",
    "    equal,\n",
    "    expect\n",
    ")\n",
    "from sklearn.model_selection import StratifiedKFold\n",
    "from sklearn.tree import DecisionTreeClassifier\n",
    "from sklearn.linear_model import LogisticRegression\n",
    "from sklearn.naive_bayes import GaussianNB\n",
    "from sklearn.svm import SVC\n",
    "from sklearn.metrics import accuracy_score\n",
    "from sklearn.metrics import f1_score"
   ]
  },
  {
   "cell_type": "code",
   "execution_count": 15,
   "metadata": {
    "scrolled": true
   },
   "outputs": [
    {
     "data": {
      "text/html": [
       "<div>\n",
       "<style scoped>\n",
       "    .dataframe tbody tr th:only-of-type {\n",
       "        vertical-align: middle;\n",
       "    }\n",
       "\n",
       "    .dataframe tbody tr th {\n",
       "        vertical-align: top;\n",
       "    }\n",
       "\n",
       "    .dataframe thead th {\n",
       "        text-align: right;\n",
       "    }\n",
       "</style>\n",
       "<table border=\"1\" class=\"dataframe\">\n",
       "  <thead>\n",
       "    <tr style=\"text-align: right;\">\n",
       "      <th></th>\n",
       "      <th>pair_index</th>\n",
       "      <th>title_1</th>\n",
       "      <th>image_1</th>\n",
       "      <th>title_2</th>\n",
       "      <th>image_2</th>\n",
       "      <th>Label</th>\n",
       "    </tr>\n",
       "  </thead>\n",
       "  <tbody>\n",
       "    <tr>\n",
       "      <th>0</th>\n",
       "      <td>0</td>\n",
       "      <td>Johnson’s ® Top to Toe Hair &amp; Body Bath 500ml</td>\n",
       "      <td>fdff8b9b8229da091dd7d070aae05f81.jpg</td>\n",
       "      <td>Johnson's cottontouch top to toe hair &amp; body b...</td>\n",
       "      <td>41e191742760932598c7bd201e5dad47.jpg</td>\n",
       "      <td>0</td>\n",
       "    </tr>\n",
       "    <tr>\n",
       "      <th>1</th>\n",
       "      <td>1</td>\n",
       "      <td>Sandal Humble</td>\n",
       "      <td>906cc44f0be72d4e767669b5b63e3a17.jpg</td>\n",
       "      <td>Sandal Humble Glass - Glanzton</td>\n",
       "      <td>7a556b836bfdd08ea592216440524a34.jpg</td>\n",
       "      <td>0</td>\n",
       "    </tr>\n",
       "    <tr>\n",
       "      <th>2</th>\n",
       "      <td>2</td>\n",
       "      <td>PROMO LIKUID LIKUIT LIQUIT BABY POD LIQUID SAL...</td>\n",
       "      <td>475c26635de18b9f93032400732ff336.jpg</td>\n",
       "      <td>Voporizer Liquit - Likuit - Likuid - Liquid Pr...</td>\n",
       "      <td>ace93bec689f3f1565800c500a8341fa.jpg</td>\n",
       "      <td>0</td>\n",
       "    </tr>\n",
       "    <tr>\n",
       "      <th>3</th>\n",
       "      <td>3</td>\n",
       "      <td>6 Pasang / Set Anting Tusuk Bentuk Lingkaran A...</td>\n",
       "      <td>e630997f6217555d6026547ad1c15f0b.jpg</td>\n",
       "      <td>Subei 6 Pasang / Set Anting Tusuk Boho Bohemia...</td>\n",
       "      <td>31abbc176b09f5bd1728cfc3ecbbfb9c.jpg</td>\n",
       "      <td>0</td>\n",
       "    </tr>\n",
       "    <tr>\n",
       "      <th>4</th>\n",
       "      <td>4</td>\n",
       "      <td>ROREC NATURAL SKIN CARE MASK ROREC SHEET MASK ...</td>\n",
       "      <td>a27d11700a7902febd039dc3a96f10f2.jpg</td>\n",
       "      <td>Rorec 86 Natural Skin Care Shert Mask All Variant</td>\n",
       "      <td>813ad9dd638c10f1765db9dde20c9e42.jpg</td>\n",
       "      <td>1</td>\n",
       "    </tr>\n",
       "  </tbody>\n",
       "</table>\n",
       "</div>"
      ],
      "text/plain": [
       "   pair_index                                            title_1  \\\n",
       "0           0      Johnson’s ® Top to Toe Hair & Body Bath 500ml   \n",
       "1           1                                      Sandal Humble   \n",
       "2           2  PROMO LIKUID LIKUIT LIQUIT BABY POD LIQUID SAL...   \n",
       "3           3  6 Pasang / Set Anting Tusuk Bentuk Lingkaran A...   \n",
       "4           4  ROREC NATURAL SKIN CARE MASK ROREC SHEET MASK ...   \n",
       "\n",
       "                                image_1  \\\n",
       "0  fdff8b9b8229da091dd7d070aae05f81.jpg   \n",
       "1  906cc44f0be72d4e767669b5b63e3a17.jpg   \n",
       "2  475c26635de18b9f93032400732ff336.jpg   \n",
       "3  e630997f6217555d6026547ad1c15f0b.jpg   \n",
       "4  a27d11700a7902febd039dc3a96f10f2.jpg   \n",
       "\n",
       "                                             title_2  \\\n",
       "0  Johnson's cottontouch top to toe hair & body b...   \n",
       "1                     Sandal Humble Glass - Glanzton   \n",
       "2  Voporizer Liquit - Likuit - Likuid - Liquid Pr...   \n",
       "3  Subei 6 Pasang / Set Anting Tusuk Boho Bohemia...   \n",
       "4  Rorec 86 Natural Skin Care Shert Mask All Variant   \n",
       "\n",
       "                                image_2  Label  \n",
       "0  41e191742760932598c7bd201e5dad47.jpg      0  \n",
       "1  7a556b836bfdd08ea592216440524a34.jpg      0  \n",
       "2  ace93bec689f3f1565800c500a8341fa.jpg      0  \n",
       "3  31abbc176b09f5bd1728cfc3ecbbfb9c.jpg      0  \n",
       "4  813ad9dd638c10f1765db9dde20c9e42.jpg      1  "
      ]
     },
     "execution_count": 15,
     "metadata": {},
     "output_type": "execute_result"
    }
   ],
   "source": [
    "df=pd.read_csv('new_training_set.csv')\n",
    "df.rename(columns={'Unnamed: 0': 'pair_index'}, inplace=True)\n",
    "df.head()"
   ]
  },
  {
   "cell_type": "code",
   "execution_count": 16,
   "metadata": {},
   "outputs": [],
   "source": [
    "df['mse_noise']=0\n",
    "df['ssim_noise']=0"
   ]
  },
  {
   "cell_type": "code",
   "execution_count": 17,
   "metadata": {},
   "outputs": [
    {
     "data": {
      "text/html": [
       "<div>\n",
       "<style scoped>\n",
       "    .dataframe tbody tr th:only-of-type {\n",
       "        vertical-align: middle;\n",
       "    }\n",
       "\n",
       "    .dataframe tbody tr th {\n",
       "        vertical-align: top;\n",
       "    }\n",
       "\n",
       "    .dataframe thead th {\n",
       "        text-align: right;\n",
       "    }\n",
       "</style>\n",
       "<table border=\"1\" class=\"dataframe\">\n",
       "  <thead>\n",
       "    <tr style=\"text-align: right;\">\n",
       "      <th></th>\n",
       "      <th>pair_index</th>\n",
       "      <th>title_1</th>\n",
       "      <th>image_1</th>\n",
       "      <th>title_2</th>\n",
       "      <th>image_2</th>\n",
       "      <th>Label</th>\n",
       "      <th>mse_noise</th>\n",
       "      <th>ssim_noise</th>\n",
       "    </tr>\n",
       "  </thead>\n",
       "  <tbody>\n",
       "    <tr>\n",
       "      <th>0</th>\n",
       "      <td>0</td>\n",
       "      <td>Johnson’s ® Top to Toe Hair &amp; Body Bath 500ml</td>\n",
       "      <td>fdff8b9b8229da091dd7d070aae05f81.jpg</td>\n",
       "      <td>Johnson's cottontouch top to toe hair &amp; body b...</td>\n",
       "      <td>41e191742760932598c7bd201e5dad47.jpg</td>\n",
       "      <td>0</td>\n",
       "      <td>0</td>\n",
       "      <td>0</td>\n",
       "    </tr>\n",
       "    <tr>\n",
       "      <th>1</th>\n",
       "      <td>1</td>\n",
       "      <td>Sandal Humble</td>\n",
       "      <td>906cc44f0be72d4e767669b5b63e3a17.jpg</td>\n",
       "      <td>Sandal Humble Glass - Glanzton</td>\n",
       "      <td>7a556b836bfdd08ea592216440524a34.jpg</td>\n",
       "      <td>0</td>\n",
       "      <td>0</td>\n",
       "      <td>0</td>\n",
       "    </tr>\n",
       "    <tr>\n",
       "      <th>2</th>\n",
       "      <td>2</td>\n",
       "      <td>PROMO LIKUID LIKUIT LIQUIT BABY POD LIQUID SAL...</td>\n",
       "      <td>475c26635de18b9f93032400732ff336.jpg</td>\n",
       "      <td>Voporizer Liquit - Likuit - Likuid - Liquid Pr...</td>\n",
       "      <td>ace93bec689f3f1565800c500a8341fa.jpg</td>\n",
       "      <td>0</td>\n",
       "      <td>0</td>\n",
       "      <td>0</td>\n",
       "    </tr>\n",
       "    <tr>\n",
       "      <th>3</th>\n",
       "      <td>3</td>\n",
       "      <td>6 Pasang / Set Anting Tusuk Bentuk Lingkaran A...</td>\n",
       "      <td>e630997f6217555d6026547ad1c15f0b.jpg</td>\n",
       "      <td>Subei 6 Pasang / Set Anting Tusuk Boho Bohemia...</td>\n",
       "      <td>31abbc176b09f5bd1728cfc3ecbbfb9c.jpg</td>\n",
       "      <td>0</td>\n",
       "      <td>0</td>\n",
       "      <td>0</td>\n",
       "    </tr>\n",
       "    <tr>\n",
       "      <th>4</th>\n",
       "      <td>4</td>\n",
       "      <td>ROREC NATURAL SKIN CARE MASK ROREC SHEET MASK ...</td>\n",
       "      <td>a27d11700a7902febd039dc3a96f10f2.jpg</td>\n",
       "      <td>Rorec 86 Natural Skin Care Shert Mask All Variant</td>\n",
       "      <td>813ad9dd638c10f1765db9dde20c9e42.jpg</td>\n",
       "      <td>1</td>\n",
       "      <td>0</td>\n",
       "      <td>0</td>\n",
       "    </tr>\n",
       "    <tr>\n",
       "      <th>...</th>\n",
       "      <td>...</td>\n",
       "      <td>...</td>\n",
       "      <td>...</td>\n",
       "      <td>...</td>\n",
       "      <td>...</td>\n",
       "      <td>...</td>\n",
       "      <td>...</td>\n",
       "      <td>...</td>\n",
       "    </tr>\n",
       "    <tr>\n",
       "      <th>10176</th>\n",
       "      <td>10176</td>\n",
       "      <td>[Bayar Di Tempat]O.TWO.O Lipstick Matte 12 War...</td>\n",
       "      <td>08f5ba211a48e9b66bbf0d0105272efb.jpg</td>\n",
       "      <td>O.TWO.O Lipstick Matte 12 Warna (2 in 1)</td>\n",
       "      <td>08f5ba211a48e9b66bbf0d0105272efb.jpg</td>\n",
       "      <td>1</td>\n",
       "      <td>0</td>\n",
       "      <td>0</td>\n",
       "    </tr>\n",
       "    <tr>\n",
       "      <th>10177</th>\n",
       "      <td>10177</td>\n",
       "      <td>Baso Aci JELETOT INTANS Gurih Khas Kota Garut</td>\n",
       "      <td>855daa89bf4f31cec0f40b144cdb283e.jpg</td>\n",
       "      <td>Baso Aci Instan Khas Garut Enak Gurih..</td>\n",
       "      <td>ffad7f79772f4e482f420591848cd69e.jpg</td>\n",
       "      <td>0</td>\n",
       "      <td>0</td>\n",
       "      <td>0</td>\n",
       "    </tr>\n",
       "    <tr>\n",
       "      <th>10178</th>\n",
       "      <td>10178</td>\n",
       "      <td>MINYAK KUTUS KUTUS ASLI BALI</td>\n",
       "      <td>9525365b5b15af5855abf9daf03da8b4.jpg</td>\n",
       "      <td>Minyak Kutus Kutus Tamba Waras 100ml</td>\n",
       "      <td>7098a9638b9ad66fb8a7912201ec3d82.jpg</td>\n",
       "      <td>1</td>\n",
       "      <td>0</td>\n",
       "      <td>0</td>\n",
       "    </tr>\n",
       "    <tr>\n",
       "      <th>10179</th>\n",
       "      <td>10179</td>\n",
       "      <td>[1KG 13PCS] ❤ MiniMamy ❤ Baju Jumper Pendek Ka...</td>\n",
       "      <td>a245f49fdc9a03655d98e6a22a89cb7d.jpg</td>\n",
       "      <td>[1KG 13PCS] ❤ Kiddikiddo❤ Baju Jumper Kaos Pen...</td>\n",
       "      <td>ea3e2af55a4ebcdb61bfb9f5da56d1bb.jpg</td>\n",
       "      <td>0</td>\n",
       "      <td>0</td>\n",
       "      <td>0</td>\n",
       "    </tr>\n",
       "    <tr>\n",
       "      <th>10180</th>\n",
       "      <td>10180</td>\n",
       "      <td>SOMEBYMI Snail True Cica Miracle Repair Serum ...</td>\n",
       "      <td>b53a42dc8c7642798a55f1f48834933f.jpg</td>\n",
       "      <td>SOME BY MI Snail True Cica Miracle Repair Seru...</td>\n",
       "      <td>1161b1cb24f4f160a087c977dbf4a013.jpg</td>\n",
       "      <td>1</td>\n",
       "      <td>0</td>\n",
       "      <td>0</td>\n",
       "    </tr>\n",
       "  </tbody>\n",
       "</table>\n",
       "<p>10181 rows × 8 columns</p>\n",
       "</div>"
      ],
      "text/plain": [
       "       pair_index                                            title_1  \\\n",
       "0               0      Johnson’s ® Top to Toe Hair & Body Bath 500ml   \n",
       "1               1                                      Sandal Humble   \n",
       "2               2  PROMO LIKUID LIKUIT LIQUIT BABY POD LIQUID SAL...   \n",
       "3               3  6 Pasang / Set Anting Tusuk Bentuk Lingkaran A...   \n",
       "4               4  ROREC NATURAL SKIN CARE MASK ROREC SHEET MASK ...   \n",
       "...           ...                                                ...   \n",
       "10176       10176  [Bayar Di Tempat]O.TWO.O Lipstick Matte 12 War...   \n",
       "10177       10177      Baso Aci JELETOT INTANS Gurih Khas Kota Garut   \n",
       "10178       10178                       MINYAK KUTUS KUTUS ASLI BALI   \n",
       "10179       10179  [1KG 13PCS] ❤ MiniMamy ❤ Baju Jumper Pendek Ka...   \n",
       "10180       10180  SOMEBYMI Snail True Cica Miracle Repair Serum ...   \n",
       "\n",
       "                                    image_1  \\\n",
       "0      fdff8b9b8229da091dd7d070aae05f81.jpg   \n",
       "1      906cc44f0be72d4e767669b5b63e3a17.jpg   \n",
       "2      475c26635de18b9f93032400732ff336.jpg   \n",
       "3      e630997f6217555d6026547ad1c15f0b.jpg   \n",
       "4      a27d11700a7902febd039dc3a96f10f2.jpg   \n",
       "...                                     ...   \n",
       "10176  08f5ba211a48e9b66bbf0d0105272efb.jpg   \n",
       "10177  855daa89bf4f31cec0f40b144cdb283e.jpg   \n",
       "10178  9525365b5b15af5855abf9daf03da8b4.jpg   \n",
       "10179  a245f49fdc9a03655d98e6a22a89cb7d.jpg   \n",
       "10180  b53a42dc8c7642798a55f1f48834933f.jpg   \n",
       "\n",
       "                                                 title_2  \\\n",
       "0      Johnson's cottontouch top to toe hair & body b...   \n",
       "1                         Sandal Humble Glass - Glanzton   \n",
       "2      Voporizer Liquit - Likuit - Likuid - Liquid Pr...   \n",
       "3      Subei 6 Pasang / Set Anting Tusuk Boho Bohemia...   \n",
       "4      Rorec 86 Natural Skin Care Shert Mask All Variant   \n",
       "...                                                  ...   \n",
       "10176           O.TWO.O Lipstick Matte 12 Warna (2 in 1)   \n",
       "10177            Baso Aci Instan Khas Garut Enak Gurih..   \n",
       "10178               Minyak Kutus Kutus Tamba Waras 100ml   \n",
       "10179  [1KG 13PCS] ❤ Kiddikiddo❤ Baju Jumper Kaos Pen...   \n",
       "10180  SOME BY MI Snail True Cica Miracle Repair Seru...   \n",
       "\n",
       "                                    image_2  Label  mse_noise  ssim_noise  \n",
       "0      41e191742760932598c7bd201e5dad47.jpg      0          0           0  \n",
       "1      7a556b836bfdd08ea592216440524a34.jpg      0          0           0  \n",
       "2      ace93bec689f3f1565800c500a8341fa.jpg      0          0           0  \n",
       "3      31abbc176b09f5bd1728cfc3ecbbfb9c.jpg      0          0           0  \n",
       "4      813ad9dd638c10f1765db9dde20c9e42.jpg      1          0           0  \n",
       "...                                     ...    ...        ...         ...  \n",
       "10176  08f5ba211a48e9b66bbf0d0105272efb.jpg      1          0           0  \n",
       "10177  ffad7f79772f4e482f420591848cd69e.jpg      0          0           0  \n",
       "10178  7098a9638b9ad66fb8a7912201ec3d82.jpg      1          0           0  \n",
       "10179  ea3e2af55a4ebcdb61bfb9f5da56d1bb.jpg      0          0           0  \n",
       "10180  1161b1cb24f4f160a087c977dbf4a013.jpg      1          0           0  \n",
       "\n",
       "[10181 rows x 8 columns]"
      ]
     },
     "execution_count": 17,
     "metadata": {},
     "output_type": "execute_result"
    }
   ],
   "source": [
    "df"
   ]
  },
  {
   "cell_type": "code",
   "execution_count": 18,
   "metadata": {},
   "outputs": [],
   "source": [
    "for i in range(len(df)):\n",
    "    image_1=cv2.imread('training_img/training_img/'+df.loc[i,'image_1'], cv2.COLOR_BGR2GRAY)\n",
    "    image_2=cv2.imread('training_img/training_img/'+df.loc[i,'image_2'], cv2.COLOR_BGR2GRAY)\n",
    "    noise = np.ones_like(image_2) * 0.2 * (image_2.max() - image_2.min())\n",
    "    noise[np.random.random(size=noise.shape) > 0.5] *= -1\n",
    "    image_2 = image_2 + abs(noise)\n",
    "    \n",
    "    image_2=cv2.resize(image_2,(25,25))\n",
    "    image_1=cv2.resize(image_1,(25,25))    \n",
    "\n",
    "\n",
    "    df.loc[i,'mse_noise'] = mean_squared_error(image_1, image_2)\n",
    "    df.loc[i,'ssim_noise'] = ssim(image_1, image_2, data_range=image_2.max() - image_2.min(), multichannel=True)"
   ]
  },
  {
   "cell_type": "code",
   "execution_count": 19,
   "metadata": {},
   "outputs": [
    {
     "data": {
      "text/plain": [
       "Label\n",
       "0    AxesSubplot(0.125,0.125;0.775x0.755)\n",
       "1    AxesSubplot(0.125,0.125;0.775x0.755)\n",
       "Name: ssim_noise, dtype: object"
      ]
     },
     "execution_count": 19,
     "metadata": {},
     "output_type": "execute_result"
    },
    {
     "data": {
      "image/png": "[encoded data removed]",
      "text/plain": [
       "<Figure size 432x288 with 1 Axes>"
      ]
     },
     "metadata": {
      "needs_background": "light"
     },
     "output_type": "display_data"
    }
   ],
   "source": [
    "df.ssim_noise.groupby(df['Label']).hist(alpha=0.7)"
   ]
  },
  {
   "cell_type": "code",
   "execution_count": 20,
   "metadata": {},
   "outputs": [],
   "source": [
    "df.dropna(inplace=True)"
   ]
  },
  {
   "cell_type": "code",
   "execution_count": 22,
   "metadata": {},
   "outputs": [],
   "source": [
    "X_final=df['ssim_noise'].values.reshape(-1,1)\n",
    "y_final=df['Label'].values"
   ]
  },
  {
   "cell_type": "code",
   "execution_count": 25,
   "metadata": {},
   "outputs": [],
   "source": [
    "skf_final = StratifiedKFold(n_splits = 5, shuffle =True, random_state = 2)\n",
    "for train_index, test_index in skf_final.split(X_final, y_final):\n",
    "  X_train_final, y_train_final = X_final[train_index], y_final[train_index]\n",
    "  X_test_final, y_test_final = X_final[test_index], y_final[test_index]"
   ]
  },
  {
   "cell_type": "code",
   "execution_count": 26,
   "metadata": {},
   "outputs": [
    {
     "name": "stdout",
     "output_type": "stream",
     "text": [
      "Accuracy: 0.67\n",
      "Fscore: 0.71\n"
     ]
    }
   ],
   "source": [
    "predictmodel1 = DecisionTreeClassifier()\n",
    "predictmodel1.fit(X_train_final, y_train_final)\n",
    "y_pred_final1 = predictmodel1.predict(X_test_final)\n",
    "print('Accuracy: %.2f' % accuracy_score(y_test_final, y_pred_final1))\n",
    "print('Fscore: %.2f' % f1_score(y_test_final, y_pred_final1))"
   ]
  },
  {
   "cell_type": "code",
   "execution_count": 27,
   "metadata": {},
   "outputs": [
    {
     "name": "stdout",
     "output_type": "stream",
     "text": [
      "Accuracy: 0.75\n",
      "Fscore: 0.75\n"
     ]
    }
   ],
   "source": [
    "predictmodel2 = LogisticRegression()\n",
    "predictmodel2.fit(X_train_final, y_train_final)\n",
    "y_pred_final2 = predictmodel2.predict(X_test_final)\n",
    "print('Accuracy: %.2f' % accuracy_score(y_test_final, y_pred_final2))\n",
    "print('Fscore: %.2f' % f1_score(y_test_final, y_pred_final2))"
   ]
  },
  {
   "cell_type": "code",
   "execution_count": 28,
   "metadata": {},
   "outputs": [
    {
     "name": "stdout",
     "output_type": "stream",
     "text": [
      "Accuracy: 0.75\n",
      "Fscore: 0.74\n"
     ]
    }
   ],
   "source": [
    "predictmodel3 = GaussianNB()\n",
    "predictmodel3.fit(X_train_final, y_train_final)\n",
    "y_pred_final3 = predictmodel3.predict(X_test_final)\n",
    "print('Accuracy: %.2f' % accuracy_score(y_test_final, y_pred_final3))\n",
    "print('Fscore: %.2f' % f1_score(y_test_final, y_pred_final3))"
   ]
  },
  {
   "cell_type": "code",
   "execution_count": 29,
   "metadata": {},
   "outputs": [
    {
     "name": "stdout",
     "output_type": "stream",
     "text": [
      "Accuracy: 0.75\n",
      "Fscore: 0.74\n"
     ]
    }
   ],
   "source": [
    "predictmodel4 = SVC()\n",
    "predictmodel4.fit(X_train_final, y_train_final)\n",
    "y_pred_final4 = predictmodel4.predict(X_test_final)\n",
    "print('Accuracy: %.2f' % accuracy_score(y_test_final, y_pred_final4))\n",
    "print('Fscore: %.2f' % f1_score(y_test_final, y_pred_final4))"
   ]
  }
 ],
 "metadata": {
  "kernelspec": {
   "display_name": "Python 3",
   "language": "python",
   "name": "python3"
  },
  "language_info": {
   "codemirror_mode": {
    "name": "ipython",
    "version": 3
   },
   "file_extension": ".py",
   "mimetype": "text/x-python",
   "name": "python",
   "nbconvert_exporter": "python",
   "pygments_lexer": "ipython3",
   "version": "3.7.6"
  }
 },
 "nbformat": 4,
 "nbformat_minor": 4
}
